{
 "cells": [
  {
   "cell_type": "code",
   "execution_count": 1,
   "id": "e88ec7ee-0b64-4e8f-975b-24c6b05eba10",
   "metadata": {},
   "outputs": [
    {
     "name": "stderr",
     "output_type": "stream",
     "text": [
      "2024-07-15 09:02:18.219891: E external/local_xla/xla/stream_executor/cuda/cuda_fft.cc:479] Unable to register cuFFT factory: Attempting to register factory for plugin cuFFT when one has already been registered\n",
      "2024-07-15 09:02:18.240200: E external/local_xla/xla/stream_executor/cuda/cuda_dnn.cc:10575] Unable to register cuDNN factory: Attempting to register factory for plugin cuDNN when one has already been registered\n",
      "2024-07-15 09:02:18.240234: E external/local_xla/xla/stream_executor/cuda/cuda_blas.cc:1442] Unable to register cuBLAS factory: Attempting to register factory for plugin cuBLAS when one has already been registered\n",
      "2024-07-15 09:02:18.253466: I tensorflow/core/platform/cpu_feature_guard.cc:210] This TensorFlow binary is optimized to use available CPU instructions in performance-critical operations.\n",
      "To enable the following instructions: AVX2 FMA, in other operations, rebuild TensorFlow with the appropriate compiler flags.\n",
      "2024-07-15 09:02:18.805027: W tensorflow/compiler/tf2tensorrt/utils/py_utils.cc:38] TF-TRT Warning: Could not find TensorRT\n",
      "/home/seonwoo0808/anaconda3/envs/tens/lib/python3.10/site-packages/tqdm/auto.py:21: TqdmWarning: IProgress not found. Please update jupyter and ipywidgets. See https://ipywidgets.readthedocs.io/en/stable/user_install.html\n",
      "  from .autonotebook import tqdm as notebook_tqdm\n"
     ]
    }
   ],
   "source": [
    "import tensorflow as tf\n",
    "\n",
    "import numpy as np\n",
    "import pandas as pd\n",
    "\n",
    "\n",
    "from transformers import BertTokenizer, TFBertModel"
   ]
  },
  {
   "cell_type": "code",
   "execution_count": 2,
   "id": "9db5fd5f-ba2b-474b-860e-b0c17298ef28",
   "metadata": {},
   "outputs": [],
   "source": [
    "tokenizer = BertTokenizer.from_pretrained(\"bert-base-uncased\")\n",
    "\n",
    "def tokenize_function(text):\n",
    "    return tokenizer(text, return_tensors='tf', max_length=500, truncation=True, padding='max_length')"
   ]
  },
  {
   "cell_type": "code",
   "execution_count": 23,
   "id": "b3018532-9f26-4f1b-a8b2-cb7ff00b2609",
   "metadata": {},
   "outputs": [],
   "source": [
    "text = '''A friend recommended me this book, telling me that his mother gave him this book saying it's a very good one. Unfortunately he wasn't good enough at English to read the book fluidly, which is why he gladly lent me the book. This was my first time reading a memoir of any sort, at least in English. I didn’t know the word itself nor the meaning of 'memoir' until seeing it on the cover of this book and putting it on the search bar. I think it was refreshing, as most books I consume are novels. Reading something that I know that actually happened, that was reconstructed by memory, gives this weird feeling of actually getting to know a person.\n",
    " Reading the first few chapters of this book, the attitude of Tara’s father, irrational and abusive, didn’t make sense to me. But Tara seemed fine with it so I suppress my anger, thinking that the writer doesn’t want me to be mad over her family. Now that I finished the book I realize that Tara is angry; she was just describing those events and her thoughts as herself back then. Anyhow while reading it I perceived this part of the book as calm and somewhat nostalgia-evoking, like listening to a grandmother’s tale. An unconcerned feeling to the way it is said, yet containing so many lessons of life. What I thought is, the anger I felt towards Tara’s parents(mostly to her father, as her mother isn’t very problematic in this part) and the behaviour of them are essentially how every conflict is made. Everyone wants everybody else to fall into their line of thinking and reasoning. I reflected my own doings and feelings with this notion in mind and was shocked by how many times I act like Tara’s father. I was obliviously saying things that in some way, resemble what Gene says to his family. I was being mad at what people do but did not notice my own acts that made others mad. Another line to add on the become a better person list: Be in other’s shoes.\n",
    "After that the text started to be more specific, solid emotions and sharp details. Tara’s struggles to live among ‘normal’ people was painful to see. The difference so big, even with the basic knowledge of the world. Everyone you meet wrong, unfaithful. It would’ve been easier to forget everything that happened and return to Buck’s peak, but she didn’t. I respect her for realizing that something was wrong about her world and changing it. Towards the end of the book, the resentment toward her own parents, the paranoia for losing her family and self-deception all came together to give me a huge tangle of emotions. She really did a great job to make people resonate with her, in a subject this deep and complicated.\n",
    " This book made me think about justice. To Tara’s father, god’s calling was justice. HE was justice. I always thought that people who claim so do it to manipulate people, for their own profit. But maybe I’m wrong, maybe they genuinely think that they are right about everything. Then why do I think he is wrong? I have a different view of justice, which is normal, so to say. The thing is that nobody is subjectively right. We can think of a world where the major is Tara’s father and the minor is us. Won’t we undergo the same situation that the Westover family did? Isn’t it just a matter of who’s the majority?\n",
    " Philosophical questions aside, I thoroughly enjoyed this book. To look into someone’s memory like this is so fascinating. I wish Tara continues to live a great life, either normal or abnormal. And finally, I’m greatful that I have so many opportunities of education.'''\n",
    "\n",
    "text = '''The Book Thief\n",
    "Possibly the best book I've read this year. It seems true that war gives birth to the best literature out there. It's conflict that literature derives from, and war is the biggest type of conflict we can encounter. This book's narrator is the unconventional \"Death\". It's astonishing how well it fits as a narrator of this book. I even had the pleasure of figuring it out myself, since I like to start reading with as minimal knowledge of the book as possible.\n",
    "Every single chapter, paragraph, sentence of this book is gold. I might even dare say 'every single word'. I just couldn't help but stare at all the 5-word sentences. short but always feeling like a punch in the guts. Often revealing the true meanings of the long long sentences above. Often adding a small detail, details that scoop up the things at the back of your mind.\n",
    "And of course, I can't forget\n",
    "\\*\\** THE INFORMATION ***\n",
    "these things give. This sometimes elaborates or explains things said prior. Other times it spoilers what comes next, but it doesn't deteriorate the experience. Rather it seems like how it's supposed to be, That death knows everything, death eventually comes.\n",
    "This book, just like any other book, gave me a lot of thought. Firstly, of death, of war. Then of parents, of expressing love, of relationships, of humanity. of powers within words and of books. Mein Kampf to The Standover Man to The Book Thief. There's so many I want to say but it won't be appropriate. Read it yourself, and if you have, don't you think it's inappropriate?'''\n",
    "\n",
    "text = '''This book was a perfect mix of subtle science fiction and emotional complexity. It only uses science fiction to set up the plot and doesn't go into a rabbit hole. There are some scenes where how it works is explained, but it's quite obvious that it's not the main subject of the book. Mostly used to show personality. I really like it, letting us focus more on the people in the book.\n",
    "When Charlie was getting harassed by the people around him I felt a pang of guilt. I'm one of those people who take intelligence into consideration when making relationships. You can say that I don't appreciate unintelligent people, but I think it's a lot complicated than mere disapproval of the mentally disordered. For those who are clearly disordered, we feel sympathy. We want the society to give them help and it's obviously the right thing to be done. But how about the people intelligent enough to live a life without external support yet tangibly stupid? How about Charlie? We tend to hate them. Funny how slightly disordered people are treated worse. Maybe I should get over the habit of pushing away unintelligent people. And rather see if one has \"something special\" inside of them, as Alice said.\n",
    "This book raises so many questions and debate points like this. Does intellectual greatness make a person less likable? Maybe it's arrogance and superiority that take place. It's definitely worth pondering over these concepts. I would love to write about them but unfortunately, my thoughts at the moment are way too mixed together to put down here.\n",
    "Reading the very first stages of Charlie's developement after the operation, I did not think this will take such a turn in terms of Charlie's human relationships, as well as his own views on himself. Delving into his self-analysis was a good reading point for me. The middle section of the book went worse than I expected. The part where Charlie gets rejected by the people around him made me feel things. It's astonishing that Charlie had not been aware that he was getting arrogant. This is the part where I felt most connected with Charlie.\n",
    "After Charlie realizes that he doesn't have much time, I like the urgency in his writing that I can feel. It's very heartbreaking but it keeps you on your toes and makes you anticipate a tragic ending. Looking at Algernon, I couldn't stop thinking that Charlie's life will end in the same way as Algernon's.\n",
    "It would be a crime not to mention the final page of the book.\n",
    "The last sentence was simply, a chief's kiss. I mean I knew that I was on the last page, but that final line was a punch in the guts. I would've shed some tears if I was home. It was hard holding back my tears in class. Thankfully I was in the front row so my only concern was my teacher noticing it and asking me what's wrong.\n",
    "The fact that It's a PS. Not even the first PS, but the second one (I personally think it makes a difference). The fact that it's a direct reference to the title. The fact that we know what state of mind Charlie is in, and the fact that the spellings are wrong. Everything works together so well and we're left alone with a rush of emotion. I don't think I'll forget the feelings this book brought to me for a long time.'''\n",
    "\n",
    "text = '''I didn't know anything about the book when I bought this, it just caught my attention in a bookstore.\n",
    "My mom later told me that it was a very popular book, regarding racism in the middle of the 19th century.\n",
    "I started reading this mid-february, right after finishing 'The alchemist', And soon realized that progress is going to be slow. The English used in this book was like nothing I've ever read and it was a challenge (given that Harper Lee put down pronunciations in lines). Despite my lack of vocabulary and cultural inexperience, my reading speed significantly increased as I got used to the book and on the last day I was able to read around 50 pages.\n",
    "To be honest I thought this book was going to feature many racism involving scenes so I was surprised to see that it was about a girl learning, experiencing the world and growing up. The way this book describes everything relies on the mind and memory of a child, and it came to me as fruitful emotions with a slight scent of nostalgia (I also grew up with an older sibling). Looking at racism through a child's naive yet painstakingly correct sight allowed me to think about the problem from the root. I guess it's not only racism where convention obstructs conscience.\n",
    "Only a few chapters in I was already thinking Atticus of a great parent, and after a few searches on google I realized how popular Atticus was as a character. He deserves it all right, he's aware that his children look up to him, and tries his best to be their moral guidance. Not only that but he wants them to know that he's trying his best, which I think played a huge role in developing their wonderful relationship. Without this and the emotions he showed to his children I think he would've been a somewhat stern father. If you really delved deep into him there probably would be better ways to do certain things, but I think this imperfection is what makes him perfect as a person, and a father. \n",
    "'''\n",
    "\n",
    "text = '''While learning linear algebra for this project I learned about cross products of vectors and what they mean. With that an idea that I’ve heard somewhere came to me. If I orient the three points of each face to be clockwise when facing towards the camera, I can know if a face is facing towards or away from the camera by simply checking the points’ orientation. By building around this idea I came up with an algorithm that could, in theory, halve the amount of faces to be rendered(I later learn that this is called back-face culling). My back-face culling algorithm requires every mesh to be enclosed and convex, which, I figured, is not a problem because all mesh can be divided into enclosed and convex meshes. In enclosed, convex meshes, triangles facing away from the camera is guaranteed to be obstructed by triangles facing towards the camera, and do not need to be rendered. Also the visible triangles never overlap each other, making single mesh renders very easy to do. Though the Intransitivity problem stays, since we didn’t touch how triangles on different meshes interact with each other.  We went through how my attempt on rendering 3D progressed, and delved into my thought process. Although the result isn’t perfect, I don’t think this project was a failure. In fact, I think I managed the best outcome, at least with my limited knowledge on this field of windows programming and 3D rendering. There are a lot of things that I have learned during this project, even outside of 3D rendering, such as how to make game engines and how to structure program flow. Overall it was a great experience I had with something that I truly enjoy doing, despite the occasional frustrations. I think I’ll make a third attempt on 3D rendering some time in the future, looking at what actual game engines do instead of figuring things out myself.'''"
   ]
  },
  {
   "cell_type": "code",
   "execution_count": 24,
   "id": "70783bbb-52ee-4e61-b3dd-4c92ff68d614",
   "metadata": {},
   "outputs": [],
   "source": [
    "tokend_result = tokenize_function(text)"
   ]
  },
  {
   "cell_type": "code",
   "execution_count": 25,
   "id": "1abb24ed-bb79-4f01-95f4-7465ae869dab",
   "metadata": {},
   "outputs": [],
   "source": [
    "input_ids = tokend_result[\"input_ids\"]\n",
    "attention_mask = tokend_result[\"attention_mask\"]"
   ]
  },
  {
   "cell_type": "code",
   "execution_count": 26,
   "id": "5fc8c8be-35c9-44e5-9c79-e316a557576c",
   "metadata": {},
   "outputs": [
    {
     "name": "stdout",
     "output_type": "stream",
     "text": [
      "tf.Tensor(\n",
      "[[1 1 1 1 1 1 1 1 1 1 1 1 1 1 1 1 1 1 1 1 1 1 1 1 1 1 1 1 1 1 1 1 1 1 1 1\n",
      "  1 1 1 1 1 1 1 1 1 1 1 1 1 1 1 1 1 1 1 1 1 1 1 1 1 1 1 1 1 1 1 1 1 1 1 1\n",
      "  1 1 1 1 1 1 1 1 1 1 1 1 1 1 1 1 1 1 1 1 1 1 1 1 1 1 1 1 1 1 1 1 1 1 1 1\n",
      "  1 1 1 1 1 1 1 1 1 1 1 1 1 1 1 1 1 1 1 1 1 1 1 1 1 1 1 1 1 1 1 1 1 1 1 1\n",
      "  1 1 1 1 1 1 1 1 1 1 1 1 1 1 1 1 1 1 1 1 1 1 1 1 1 1 1 1 1 1 1 1 1 1 1 1\n",
      "  1 1 1 1 1 1 1 1 1 1 1 1 1 1 1 1 1 1 1 1 1 1 1 1 1 1 1 1 1 1 1 1 1 1 1 1\n",
      "  1 1 1 1 1 1 1 1 1 1 1 1 1 1 1 1 1 1 1 1 1 1 1 1 1 1 1 1 1 1 1 1 1 1 1 1\n",
      "  1 1 1 1 1 1 1 1 1 1 1 1 1 1 1 1 1 1 1 1 1 1 1 1 1 1 1 1 1 1 1 1 1 1 1 1\n",
      "  1 1 1 1 1 1 1 1 1 1 1 1 1 1 1 1 1 1 1 1 1 1 1 1 1 1 1 1 1 1 1 1 1 1 1 1\n",
      "  1 1 1 1 1 1 1 1 1 1 1 1 1 1 1 1 1 1 1 1 1 1 1 1 1 1 1 1 1 1 1 1 1 1 1 1\n",
      "  1 1 1 1 1 1 1 1 1 1 1 1 1 1 1 1 1 1 1 1 1 1 1 1 1 1 1 1 0 0 0 0 0 0 0 0\n",
      "  0 0 0 0 0 0 0 0 0 0 0 0 0 0 0 0 0 0 0 0 0 0 0 0 0 0 0 0 0 0 0 0 0 0 0 0\n",
      "  0 0 0 0 0 0 0 0 0 0 0 0 0 0 0 0 0 0 0 0 0 0 0 0 0 0 0 0 0 0 0 0 0 0 0 0\n",
      "  0 0 0 0 0 0 0 0 0 0 0 0 0 0 0 0 0 0 0 0 0 0 0 0 0 0 0 0 0 0 0 0]], shape=(1, 500), dtype=int32)\n"
     ]
    }
   ],
   "source": [
    "print(attention_mask)"
   ]
  },
  {
   "cell_type": "code",
   "execution_count": 27,
   "id": "58f6e825-4306-4fe6-b4aa-a056b564ce16",
   "metadata": {},
   "outputs": [],
   "source": [
    "model = tf.keras.models.load_model(\"./baseline0713_22.h5\", custom_objects={\"TFBertModel\": TFBertModel})"
   ]
  },
  {
   "cell_type": "code",
   "execution_count": 28,
   "id": "97d2eac1-263a-4742-88a4-2a8f98cd6e8c",
   "metadata": {},
   "outputs": [
    {
     "name": "stdout",
     "output_type": "stream",
     "text": [
      "1/1 [==============================] - 5s 5s/step\n",
      "[[0.06885687 0.54677665 0.59439296 0.01361707]]\n"
     ]
    },
    {
     "data": {
      "text/plain": [
       "array([[0., 1., 1., 0.]], dtype=float32)"
      ]
     },
     "execution_count": 28,
     "metadata": {},
     "output_type": "execute_result"
    }
   ],
   "source": [
    "pred_result = model.predict([input_ids, attention_mask])\n",
    "print(pred_result)\n",
    "pred_result = np.round(pred_result)\n",
    "\n",
    "pred_result"
   ]
  },
  {
   "cell_type": "code",
   "execution_count": null,
   "id": "2bcef8f9-e02d-4256-a142-6e5eb0f19443",
   "metadata": {},
   "outputs": [],
   "source": []
  }
 ],
 "metadata": {
  "kernelspec": {
   "display_name": "Python 3 (ipykernel)",
   "language": "python",
   "name": "python3"
  },
  "language_info": {
   "codemirror_mode": {
    "name": "ipython",
    "version": 3
   },
   "file_extension": ".py",
   "mimetype": "text/x-python",
   "name": "python",
   "nbconvert_exporter": "python",
   "pygments_lexer": "ipython3",
   "version": "3.10.14"
  }
 },
 "nbformat": 4,
 "nbformat_minor": 5
}
